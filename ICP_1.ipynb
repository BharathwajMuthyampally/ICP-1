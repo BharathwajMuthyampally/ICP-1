{
  "cells": [
    {
      "cell_type": "markdown",
      "metadata": {
        "id": "view-in-github",
        "colab_type": "text"
      },
      "source": [
        "<a href=\"https://colab.research.google.com/github/BharathwajMuthyampally/ICP-1/blob/main/ICP_1.ipynb\" target=\"_parent\"><img src=\"https://colab.research.google.com/assets/colab-badge.svg\" alt=\"Open In Colab\"/></a>"
      ]
    },
    {
      "cell_type": "code",
      "source": [
        "def fullname(first_name, last_name):\n",
        "    return f\"{first_name} {last_name}\"\n",
        "\n",
        "def string_alternative(string):\n",
        "    return string[::2]\n",
        "\n",
        "def main():\n",
        "    first_name = input(\"Enter your first name: \")\n",
        "    last_name = input(\"Enter your last name: \")\n",
        "\n",
        "    full_name = fullname(first_name, last_name)\n",
        "    print(f\"Full name: {full_name}\")\n",
        "\n",
        "    alternating = string_alternative(full_name)\n",
        "    print(f\"Alternating characters: {alternating}\")\n",
        "\n",
        "if __name__ == \"__main__\":\n",
        "    main()"
      ],
      "metadata": {
        "id": "ICwcPlAjZicR",
        "outputId": "278fa2a9-909a-4f45-f7a9-5ff8ab2cdad2",
        "colab": {
          "base_uri": "https://localhost:8080/"
        }
      },
      "execution_count": null,
      "outputs": [
        {
          "output_type": "stream",
          "name": "stdout",
          "text": [
            "Enter your first name: bharathwaj\n",
            "Enter your last name: muthyampally\n",
            "Full name: bharathwaj muthyampally\n",
            "Alternating characters: baaha uhaply\n"
          ]
        }
      ]
    },
    {
      "cell_type": "markdown",
      "source": [
        "1 Program for full name and string alternation:"
      ],
      "metadata": {
        "id": "wkQD0kqXZdMb"
      }
    },
    {
      "cell_type": "markdown",
      "source": [
        "#2 Word count program"
      ],
      "metadata": {
        "id": "bywutdMlWUqj"
      }
    },
    {
      "cell_type": "code",
      "source": [
        "from collections import Counter\n",
        "\n",
        "def count_words(filename):\n",
        "    word_count = Counter()\n",
        "    with open(filename, 'r') as file:\n",
        "        for line in file:\n",
        "            words = line.strip().split()\n",
        "            word_count.update(words)\n",
        "            print(line.strip())\n",
        "\n",
        "    print(\"Word_Count:\")\n",
        "    for word, count in word_count.items():\n",
        "        print(f\"{word}: {count}\")\n",
        "\n",
        "    return word_count\n",
        "\n",
        "def write_output(word_count, output_file):\n",
        "    with open(output_file, 'w') as file:\n",
        "        for word, count in word_count.items():\n",
        "            file.write(f\"{word}: {count}\\n\")\n",
        "\n",
        "input_file = \"input.txt\"\n",
        "output_file = \"output.txt\"\n",
        "\n",
        "word_count = count_words(input_file)\n",
        "write_output(word_count, output_file)"
      ],
      "metadata": {
        "id": "MZBN_41uWVUl",
        "outputId": "3203f774-ccab-4068-9275-e58a0919071f",
        "colab": {
          "base_uri": "https://localhost:8080/"
        }
      },
      "execution_count": null,
      "outputs": [
        {
          "output_type": "stream",
          "name": "stdout",
          "text": [
            "The sun dipped below the horizon,\n",
            "casting an amber glow across the landscape.\n",
            "Birds chirped\n",
            "their final melodies of the day\n",
            "Word_Count:\n",
            "The: 1\n",
            "sun: 1\n",
            "dipped: 1\n",
            "below: 1\n",
            "the: 3\n",
            "horizon,: 1\n",
            "casting: 1\n",
            "an: 1\n",
            "amber: 1\n",
            "glow: 1\n",
            "across: 1\n",
            "landscape.: 1\n",
            "Birds: 1\n",
            "chirped: 1\n",
            "their: 1\n",
            "final: 1\n",
            "melodies: 1\n",
            "of: 1\n",
            "day: 1\n"
          ]
        }
      ]
    },
    {
      "cell_type": "markdown",
      "source": [
        "#3.1 Using a Nested Interactive Loop:"
      ],
      "metadata": {
        "id": "qxsG7wc3WXdN"
      }
    },
    {
      "cell_type": "code",
      "source": [
        "# Function to convert inches to centimeters (1 inch = 2.54 cm)\n",
        "def convert_to_cm(inches):\n",
        "    return inches * 2.54\n",
        "\n",
        "# Initialize an empty list for heights in inches\n",
        "heights_in_inches = []\n",
        "\n",
        "# Get number of customers\n",
        "n = int(input(\"Enter the number of customers: \"))\n",
        "\n",
        "# Read heights from users and store them in the list\n",
        "for i in range(n):\n",
        "    height = float(input(f\"Enter height of customer {i+1} in inches: \"))\n",
        "    heights_in_inches.append(height)\n",
        "\n",
        "# Initialize an empty list for heights in centimeters\n",
        "heights_in_cm = []\n",
        "\n",
        "# Use a nested loop to convert each height from inches to cm\n",
        "for height in heights_in_inches:\n",
        "    heights_in_cm.append(convert_to_cm(height))\n",
        "\n",
        "# Display the converted heights\n",
        "print(\"Heights in centimeters:\", heights_in_cm)\n"
      ],
      "metadata": {
        "id": "8pHLemdLWX6q",
        "outputId": "17b1775f-218d-45d5-dd6d-7d5b337e5fb8",
        "colab": {
          "base_uri": "https://localhost:8080/"
        }
      },
      "execution_count": null,
      "outputs": [
        {
          "output_type": "stream",
          "name": "stdout",
          "text": [
            "Enter the number of customers: 3\n",
            "Enter height of customer 1 in inches: 6\n",
            "Enter height of customer 2 in inches: 7\n",
            "Enter height of customer 3 in inches: 5\n",
            "Heights in centimeters: [15.24, 17.78, 12.7]\n"
          ]
        }
      ]
    },
    {
      "cell_type": "markdown",
      "source": [
        "3.2 Using List Comprehensions:"
      ],
      "metadata": {
        "id": "D0YqgEcUY3N_"
      }
    },
    {
      "cell_type": "code",
      "source": [
        "# Function to convert inches to centimeters (1 inch = 2.54 cm)\n",
        "def convert_to_cm(inches):\n",
        "    return inches * 2.54\n",
        "\n",
        "# Initialize an empty list for heights in inches\n",
        "heights_in_inches = []\n",
        "\n",
        "# Get number of customers\n",
        "n = int(input(\"Enter the number of customers: \"))\n",
        "\n",
        "# Read heights from users and store them in the list\n",
        "for i in range(n):\n",
        "    height = float(input(f\"Enter height of customer {i+1} in inches: \"))\n",
        "    heights_in_inches.append(height)\n",
        "\n",
        "# Use list comprehension to convert the heights to cm\n",
        "heights_in_cm = [convert_to_cm(height) for height in heights_in_inches]\n",
        "\n",
        "# Display the converted heights\n",
        "print(\"Heights in centimeters:\", heights_in_cm)\n"
      ],
      "metadata": {
        "id": "1m87iRNtY76r",
        "outputId": "f187b1f3-e1cd-4381-d9a7-ed196bd2a650",
        "colab": {
          "base_uri": "https://localhost:8080/"
        }
      },
      "execution_count": null,
      "outputs": [
        {
          "output_type": "stream",
          "name": "stdout",
          "text": [
            "Enter the number of customers: 3\n",
            "Enter height of customer 1 in inches: 6\n",
            "Enter height of customer 2 in inches: 5\n",
            "Enter height of customer 3 in inches: 7\n",
            "Heights in centimeters: [15.24, 12.7, 17.78]\n"
          ]
        }
      ]
    }
  ],
  "metadata": {
    "colab": {
      "toc_visible": true,
      "provenance": [],
      "include_colab_link": true
    },
    "kernelspec": {
      "display_name": "Python 3",
      "name": "python3"
    }
  },
  "nbformat": 4,
  "nbformat_minor": 0
}